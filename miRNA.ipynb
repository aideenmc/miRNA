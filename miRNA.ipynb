{
 "cells": [
  {
   "cell_type": "markdown",
   "metadata": {},
   "source": [
    "# <font color='magenta'>API Wrapper</font>"
   ]
  },
  {
   "cell_type": "code",
   "execution_count": 6,
   "metadata": {},
   "outputs": [],
   "source": [
    "\"\"\"\n",
    "Read in genes of interest\n",
    "\"\"\"\n",
    "\n",
    "filename = 'wheat_test_2'\n",
    "\n",
    "with open(f'{filename}.txt') as f:\n",
    "    # remove trailing '\\n'\n",
    "    genes = f.read().splitlines()"
   ]
  },
  {
   "cell_type": "code",
   "execution_count": 7,
   "metadata": {},
   "outputs": [],
   "source": [
    "import urllib.request\n",
    "from bs4 import BeautifulSoup\n",
    "\n",
    "class Denim(object):\n",
    "    \"\"\"\n",
    "    Denim Class\n",
    "    ~~~~~~~~~~~~\n",
    "    Extracts mirna interactions from a target gene \n",
    "    and returns a parsed list of dicts\n",
    "    Private methods build request url and parse returned data \n",
    "    \n",
    "    get_genes  : \n",
    "        Input:\n",
    "            geneID : str : tair10 gene identifier eg 'AT2G33810'\n",
    "        returns:\n",
    "            [list of dicts]\n",
    "            data return in following format:\n",
    "        \n",
    "            [{'miRNA' : <miRNA string>, 'target_gene' : <target gene string>},\n",
    "            { ... },\n",
    "            ...\n",
    "            ]\n",
    "    \"\"\"\n",
    "    \n",
    "    def __init__(self):\n",
    "        self.url = 'http://www.pmiren.com/browsehref4search?stype=61&'\n",
    "        \n",
    "    def _build_url(self, geneID):\n",
    "        return f\"{self.url}kw={geneID}\"\n",
    "    \n",
    "    def _make_soup(self, html : str):\n",
    "        soup = BeautifulSoup(html, 'html5lib')\n",
    "        return soup\n",
    "    \n",
    "    def _parse(self, soup):\n",
    "        \"\"\"\n",
    "        Explain format of html\n",
    "        \"\"\"\n",
    "        rnas = []\n",
    "        entries = [entry for entry in soup.find_all('tr')]\n",
    "        # skip first entry - headers\n",
    "        for entry in entries[1:]:    \n",
    "            elements = [element for element in entry.find_all('td')]\n",
    "            \n",
    "            rnas.append({'miRNA': elements[0].string,\n",
    "                        'target_gene' : elements[1].string}) \n",
    "        \n",
    "        return rnas\n",
    "    \n",
    "    def get_genes(self, geneID : str):\n",
    "        \"\"\"\n",
    "        \"\"\"\n",
    "        rqst_url = self._build_url(geneID)\n",
    "        response = urllib.request.urlopen(rqst_url)\n",
    "        soup = self._make_soup(response.read())\n",
    "        \n",
    "        return self._parse(soup)"
   ]
  },
  {
   "cell_type": "code",
   "execution_count": null,
   "metadata": {},
   "outputs": [],
   "source": [
    "wrapper = Denim()\n",
    "\n",
    "tofile = []\n",
    "\n",
    "for gene in genes[1:]:\n",
    "    tofile.extend(wrapper.get_genes(gene))\n",
    "        "
   ]
  },
  {
   "cell_type": "code",
   "execution_count": null,
   "metadata": {},
   "outputs": [],
   "source": [
    "tofile"
   ]
  },
  {
   "cell_type": "code",
   "execution_count": 5,
   "metadata": {},
   "outputs": [],
   "source": [
    "import csv\n",
    "keys = tofile[1].keys()\n",
    "with open ('example.csv', 'w') as output_file:\n",
    "    dict_writer = csv.DictWriter(output_file, keys)\n",
    "    dict_writer.writeheader()\n",
    "    dict_writer.writerows(tofile)"
   ]
  },
  {
   "cell_type": "code",
   "execution_count": null,
   "metadata": {},
   "outputs": [],
   "source": []
  }
 ],
 "metadata": {
  "kernelspec": {
   "display_name": "Python 3",
   "language": "python",
   "name": "python3"
  },
  "language_info": {
   "codemirror_mode": {
    "name": "ipython",
    "version": 3
   },
   "file_extension": ".py",
   "mimetype": "text/x-python",
   "name": "python",
   "nbconvert_exporter": "python",
   "pygments_lexer": "ipython3",
   "version": "3.7.4"
  }
 },
 "nbformat": 4,
 "nbformat_minor": 4
}
